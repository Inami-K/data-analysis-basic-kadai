{
  "nbformat": 4,
  "nbformat_minor": 0,
  "metadata": {
    "colab": {
      "provenance": []
    },
    "kernelspec": {
      "name": "python3",
      "display_name": "Python 3"
    },
    "language_info": {
      "name": "python"
    }
  },
  "cells": [
    {
      "cell_type": "code",
      "execution_count": 8,
      "metadata": {
        "colab": {
          "base_uri": "https://localhost:8080/"
        },
        "id": "4MxVsMO9-XMH",
        "outputId": "af28b2a8-6b63-465e-99e0-fea2aeea9e76"
      },
      "outputs": [
        {
          "output_type": "stream",
          "name": "stdout",
          "text": [
            "[[ 4  5  6  7]\n",
            " [12 17 22 27]\n",
            " [20 29 38 47]]\n",
            "47\n"
          ]
        }
      ],
      "source": [
        "import numpy as np\n",
        "\n",
        "A = np.array([[0, 1],[2, 3],[4, 5]])\n",
        "B = np.array([[0, 1, 2, 3],[4, 5, 6, 7]])\n",
        "\n",
        "matrix = np.dot(A, B)\n",
        "\n",
        "print(matrix)\n",
        "print(matrix.max())"
      ]
    },
    {
      "cell_type": "code",
      "source": [],
      "metadata": {
        "id": "DiUUxORj_4GR"
      },
      "execution_count": null,
      "outputs": []
    }
  ]
}